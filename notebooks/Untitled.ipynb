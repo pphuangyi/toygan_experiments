{
 "cells": [
  {
   "cell_type": "code",
   "execution_count": 2,
   "id": "4621a4c3-ab93-41a0-bd09-ccd6e101b6e5",
   "metadata": {},
   "outputs": [],
   "source": [
    "import torch\n",
    "import torch.nn as nn"
   ]
  },
  {
   "cell_type": "code",
   "execution_count": 3,
   "id": "14bece10-6e6a-4472-98ad-e038a88a3b96",
   "metadata": {},
   "outputs": [],
   "source": [
    "import sys\n",
    "sys.path.append('/home/yhuang2/PROJs/LS4GAN')"
   ]
  },
  {
   "cell_type": "code",
   "execution_count": 4,
   "id": "709d4fea-b399-4b9e-aa70-4ee5b6fba33b",
   "metadata": {},
   "outputs": [],
   "source": [
    "from toygan_hybrid_vit_cnn.toygan.torch.select import ( \n",
    "    get_activ_layer,\n",
    "    extract_name_kwargs\n",
    ")\n",
    "from toygan_hybrid_vit_cnn.toygan.torch.layers.mixturebatch import MixtureBatch"
   ]
  },
  {
   "cell_type": "code",
   "execution_count": 5,
   "id": "f1157816-282a-4fd4-9299-e87a4701282b",
   "metadata": {},
   "outputs": [
    {
     "name": "stdout",
     "output_type": "stream",
     "text": [
      "tensor([[[[True, True],\n",
      "          [True, True]],\n",
      "\n",
      "         [[True, True],\n",
      "          [True, True]]],\n",
      "\n",
      "\n",
      "        [[[True, True],\n",
      "          [True, True]],\n",
      "\n",
      "         [[True, True],\n",
      "          [True, True]]]])\n"
     ]
    }
   ],
   "source": [
    "num_channels = 2\n",
    "mixture_batch_1 = MixtureBatch(num_channels, coef_norm=1, coef_iden=0, norm_kwargs={'momentum': .2})\n",
    "mixture_batch_2 = MixtureBatch(num_channels, coef_norm=0, coef_iden=1, norm_kwargs={'momentum': .2})\n",
    "mixture_batch_3 = MixtureBatch(num_channels, coef_norm=1, coef_iden=1, norm_kwargs={'momentum': .2})\n",
    "data = torch.randint(5, (2, num_channels, 2, 2)).type(torch.float32)\n",
    "a1 = mixture_batch_1(data)\n",
    "a2 = mixture_batch_2(data)\n",
    "a3 = mixture_batch_3(data)\n",
    "print((a1 + a2) / 2 == a3)"
   ]
  },
  {
   "cell_type": "code",
   "execution_count": 6,
   "id": "6cdeb323-f52e-48c6-a3c1-b0fd273aeb51",
   "metadata": {},
   "outputs": [],
   "source": [
    "class ConvEmbeddingBlock(nn.Module):\n",
    "    \"\"\"\n",
    "    NOTE: try to work with image with size that are powers of 2\n",
    "    \"\"\"\n",
    "    def __init__(\n",
    "        self,\n",
    "        in_channels,\n",
    "        out_channels,\n",
    "        stem_norm,\n",
    "        stem_activ,\n",
    "        **kwargs\n",
    "    ):\n",
    "        super().__init__(**kwargs)\n",
    "        \n",
    "        # convolution\n",
    "        self.conv  = nn.Conv2d(\n",
    "            in_channels,\n",
    "            out_channels,\n",
    "            kernel_size=4,\n",
    "            padding=1,\n",
    "            stride=2\n",
    "        )\n",
    "        \n",
    "        # normalization\n",
    "        name, kwargs = extract_name_kwargs(stem_norm)\n",
    "        if name == 'mixturebatch':\n",
    "            self.norm = MixtureBatch(out_channels, **kwargs)\n",
    "        else:\n",
    "            layer_norm_fn = get_norm_layer_fn(stem_norm)\n",
    "            self.norm = layer_norm_fn(out_channels)\n",
    "        \n",
    "        # activation\n",
    "        self.activ = get_activ_layer(stem_activ)\n",
    "\n",
    "\n",
    "    def forward(self, x):\n",
    "        return self.activ(self.norm(self.conv(x)))"
   ]
  },
  {
   "cell_type": "code",
   "execution_count": 7,
   "id": "2f804259-9d09-43cf-aea0-e35515bef42a",
   "metadata": {},
   "outputs": [
    {
     "data": {
      "text/plain": [
       "ConvEmbeddingBlock(\n",
       "  (conv): Conv2d(1, 2, kernel_size=(4, 4), stride=(2, 2), padding=(1, 1))\n",
       "  (norm): MixtureBatch(\n",
       "    (norm_layer): BatchNorm2d(2, eps=1e-05, momentum=0.2, affine=True, track_running_stats=True)\n",
       "  )\n",
       "  (activ): ReLU()\n",
       ")"
      ]
     },
     "execution_count": 7,
     "metadata": {},
     "output_type": "execute_result"
    }
   ],
   "source": [
    "stem_norm = {\n",
    "    'name': 'mixturebatch',\n",
    "    'coef_norm': 1,\n",
    "    'coef_iden': 1,\n",
    "    'norm_kwargs': {'momentum': .2}\n",
    "}\n",
    "layer = ConvEmbeddingBlock(1, 2, stem_norm, 'relu')\n",
    "layer"
   ]
  },
  {
   "cell_type": "code",
   "execution_count": 21,
   "id": "0dee4129-5451-474e-86d0-847341b4f739",
   "metadata": {},
   "outputs": [
    {
     "name": "stdout",
     "output_type": "stream",
     "text": [
      "tensor([[[2.]],\n",
      "\n",
      "        [[1.]],\n",
      "\n",
      "        [[3.]]])\n",
      "tensor([[[True]],\n",
      "\n",
      "        [[True]],\n",
      "\n",
      "        [[True]]])\n"
     ]
    }
   ],
   "source": [
    "data = torch.randint(5, (3, 1, 1)).type(torch.float32)\n",
    "print(data)\n",
    "\n",
    "data_s = data.squeeze()\n",
    "\n",
    "data_r = data_s.unsqueeze(-1).unsqueeze(-1)\n",
    "print(data_r == data)"
   ]
  },
  {
   "cell_type": "code",
   "execution_count": null,
   "id": "ea38f927-dd95-44db-9937-4751b8fee4bd",
   "metadata": {},
   "outputs": [],
   "source": []
  }
 ],
 "metadata": {
  "kernelspec": {
   "display_name": "Python 3 (ipykernel)",
   "language": "python",
   "name": "python3"
  },
  "language_info": {
   "codemirror_mode": {
    "name": "ipython",
    "version": 3
   },
   "file_extension": ".py",
   "mimetype": "text/x-python",
   "name": "python",
   "nbconvert_exporter": "python",
   "pygments_lexer": "ipython3",
   "version": "3.9.4"
  }
 },
 "nbformat": 4,
 "nbformat_minor": 5
}
